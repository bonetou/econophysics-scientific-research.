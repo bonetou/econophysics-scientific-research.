{
 "cells": [
  {
   "cell_type": "code",
   "execution_count": 1,
   "metadata": {},
   "outputs": [],
   "source": [
    "from binance.client import Client\n",
    "from config.secret import *\n",
    "import pandas as pd\n",
    "import time\n",
    "import os"
   ]
  },
  {
   "cell_type": "code",
   "execution_count": 2,
   "metadata": {},
   "outputs": [],
   "source": [
    "client = Client(API_KEY, API_SECRET)"
   ]
  },
  {
   "cell_type": "code",
   "execution_count": 3,
   "metadata": {},
   "outputs": [],
   "source": [
    "def get_all_symbols_binance():\n",
    "    symbols = []\n",
    "    tickers = client.get_orderbook_tickers()\n",
    "    for ticker in tickers:\n",
    "        symbols.append(ticker['symbol'])\n",
    "    symbols = [symbol for symbol in symbols if symbol.endswith(\"USDT\")]\n",
    "    return symbols"
   ]
  },
  {
   "cell_type": "code",
   "execution_count": 4,
   "metadata": {},
   "outputs": [],
   "source": [
    "symbols = get_all_symbols_binance()"
   ]
  },
  {
   "cell_type": "code",
   "execution_count": 5,
   "metadata": {},
   "outputs": [],
   "source": [
    "def data_handler(data):\n",
    "    column_names = ['open_time','open','high','low','close','volume','close_time','quote_asset_volume',\n",
    "                'number_of_trades','taker_buy_base_asset_volume','taker_buy_quote_asset_volume','ignore']\n",
    "    df = pd.DataFrame(data, columns=column_names)\n",
    "    df['date_open_time'] = pd.to_datetime(df['open_time'], unit='ms')\n",
    "    df['date_close_time'] = pd.to_datetime(df['close_time'], unit='ms')\n",
    "    return df"
   ]
  },
  {
   "cell_type": "code",
   "execution_count": 5,
   "metadata": {},
   "outputs": [
    {
     "output_type": "stream",
     "name": "stdout",
     "text": [
      "- ADAUSDT\n- BNBUSDT\n- BTCUSDT\n- EOSUSDT\n- ETCUSDT\n- ETHUSDT\n- ICXUSDT\n- IOTAUSDT\n- LTCUSDT\n- NEOUSDT\n- NULSUSDT\n- ONTUSDT\n- PAXUSDT\n- QTUMUSDT\n- TRXUSDT\n- TUSDUSDT\n- USDCUSDT\n- VETUSDT\n- XLMUSDT\n- XRPUSDT\n"
     ]
    }
   ],
   "source": [
    "available_symbols = [symbol.replace('.parquet', '') for symbol in os.listdir('data/1d_data')]\n",
    "for symbol in available_symbols:\n",
    "    print(f'- {symbol}')"
   ]
  },
  {
   "cell_type": "code",
   "execution_count": 16,
   "metadata": {},
   "outputs": [],
   "source": [
    "start_time = '1 Jan, 2019'\n",
    "end_time = '1 Mar, 2021'\n",
    "interval = '1m'\n",
    "path = f'data/{interval}_data/'"
   ]
  },
  {
   "cell_type": "code",
   "execution_count": 17,
   "metadata": {},
   "outputs": [],
   "source": [
    "for symbol in available_symbols:\n",
    "    try:\n",
    "        data = client.get_historical_klines(symbol, interval, start_time, end_time)\n",
    "        df = data_handler(data)\n",
    "        df.to_parquet(f'{path}{symbol}.parquet')\n",
    "        time.sleep(0.1)\n",
    "    except Exception as e:\n",
    "        print(e)"
   ]
  }
 ],
 "metadata": {
  "kernelspec": {
   "name": "python3",
   "display_name": "Python 3.8.0 64-bit",
   "metadata": {
    "interpreter": {
     "hash": "e3d469ce492b299468be90828203bdc9965c25af1d1bef3c4d2552201798309f"
    }
   }
  },
  "language_info": {
   "codemirror_mode": {
    "name": "ipython",
    "version": 3
   },
   "file_extension": ".py",
   "mimetype": "text/x-python",
   "name": "python",
   "nbconvert_exporter": "python",
   "pygments_lexer": "ipython3",
   "version": "3.8.0-final"
  }
 },
 "nbformat": 4,
 "nbformat_minor": 4
}