{
 "cells": [
  {
   "cell_type": "code",
   "execution_count": 1,
   "metadata": {},
   "outputs": [],
   "source": [
    "import os\n",
    "import pandas as pd\n",
    "import numpy as np\n",
    "import math\n",
    "import matplotlib.pyplot as plt\n",
    "from matplotlib.ticker import PercentFormatter\n",
    "import seaborn as sns"
   ]
  },
  {
   "cell_type": "code",
   "execution_count": 2,
   "metadata": {},
   "outputs": [
    {
     "name": "stdout",
     "output_type": "stream",
     "text": [
      "Something wrong reading data .ipynb_checkpoints\n"
     ]
    }
   ],
   "source": [
    "path = 'data/crypto_usdt/'\n",
    "files = os.listdir(path)\n",
    "files_nr = {\n",
    "    \"df_name\": [],\n",
    "    \"df_nr\": []\n",
    "}\n",
    "\n",
    "for file in files:\n",
    "    try:\n",
    "        df = pd.read_csv(path+file)\n",
    "        files_nr[\"df_name\"].append(file)\n",
    "        files_nr[\"df_nr\"].append(df.shape[0])\n",
    "    except:\n",
    "        print('Something wrong reading data', file)"
   ]
  },
  {
   "cell_type": "code",
   "execution_count": 3,
   "metadata": {},
   "outputs": [
    {
     "data": {
      "image/png": "[encoded data removed]",
      "text/plain": [
       "<Figure size 864x432 with 1 Axes>"
      ]
     },
     "metadata": {},
     "output_type": "display_data"
    }
   ],
   "source": [
    "sns.set()\n",
    "data = files_nr[\"df_nr\"]\n",
    "w = 100\n",
    "n = math.ceil((max(data) - min(data)) / w)\n",
    "plt.figure(figsize=(12,6))\n",
    "plt.title(\"Data Number of Rows - Percentage\")\n",
    "plt.xlabel(\"Number of Rows\")\n",
    "plt.hist(data, bins=n, weights=np.ones(len(data)) / len(data), label='a')\n",
    "plt.gca().yaxis.set_major_formatter(PercentFormatter(1))\n",
    "plt.savefig('fig/data_number_rows_histogram.png', dpi=300)\n",
    "plt.show()"
   ]
  },
  {
   "cell_type": "code",
   "execution_count": 4,
   "metadata": {},
   "outputs": [
    {
     "name": "stdout",
     "output_type": "stream",
     "text": [
      "Mean: 298.5983935742972\n",
      "Median: 169.0\n",
      "Std Dev: 274.5978574034985\n"
     ]
    }
   ],
   "source": [
    "print('Mean:', np.mean(data))\n",
    "print('Median:', np.median(data))\n",
    "print('Std Dev:', np.std(data))"
   ]
  },
  {
   "cell_type": "code",
   "execution_count": 5,
   "metadata": {},
   "outputs": [],
   "source": [
    "def filter_files_by_n_rows(path:str, files:list, n_rows:int):\n",
    "    filtered_files = {\n",
    "        \"file\": [],\n",
    "        \"n_rows\": []\n",
    "    }\n",
    "    \n",
    "    for file in files:\n",
    "        try:\n",
    "            df = pd.read_csv(path+file)\n",
    "            if(df.shape[0]>=n_rows):\n",
    "                filtered_files[\"file\"].append(file)\n",
    "                filtered_files[\"n_rows\"].append(df.shape[0])\n",
    "        except:\n",
    "            print('Something wrong reading data', file)\n",
    "    return filtered_files"
   ]
  },
  {
   "cell_type": "code",
   "execution_count": 6,
   "metadata": {},
   "outputs": [
    {
     "name": "stdout",
     "output_type": "stream",
     "text": [
      "Something wrong reading data .ipynb_checkpoints\n",
      "Total files: 250\n",
      "Number of files filtered: 85\n",
      "Percentage of analysis 34.0\n",
      "File with minimum rows: 371\n",
      "File with maximum rows: 1211\n"
     ]
    }
   ],
   "source": [
    "filtered_files = filter_files_by_n_rows(path=path, files=files, n_rows=365) #filtering by 1 year\n",
    "print('Total files:', len(files))\n",
    "print('Number of files filtered:', len(filtered_files[\"file\"]))\n",
    "print('Percentage of analysis', 100*len(filtered_files[\"file\"])/len(files))\n",
    "print('File with minimum rows:', min(filtered_files[\"n_rows\"]))\n",
    "print('File with maximum rows:', max(filtered_files[\"n_rows\"]))"
   ]
  },
  {
   "cell_type": "code",
   "execution_count": 7,
   "metadata": {},
   "outputs": [],
   "source": [
    "def save_filtered_files(filtered_files):\n",
    "    for filtered_file in filtered_files[\"file\"]:\n",
    "        df = pd.read_csv(path+filtered_file)\n",
    "        df.to_csv('data/filtered_crypto_usdt/{}'.format(filtered_file))\n",
    "\n",
    "save_filtered_files(filtered_files=filtered_files)"
   ]
  },
  {
   "cell_type": "code",
   "execution_count": 8,
   "metadata": {},
   "outputs": [
    {
     "name": "stdout",
     "output_type": "stream",
     "text": [
      "All Columns Available: ['open_time', 'open', 'high', 'low', 'close', 'volume', 'close_time', 'quote_asset_volume', 'number_of_trades', 'taker_buy_base_asset_volume', 'taker_buy_quote_asset_volume', 'ignore', 'date_open_time', 'date_close_time']\n"
     ]
    }
   ],
   "source": [
    "print('All Columns Available:', list(df.columns))"
   ]
  },
  {
   "cell_type": "code",
   "execution_count": null,
   "metadata": {},
   "outputs": [],
   "source": []
  }
 ],
 "metadata": {
  "kernelspec": {
   "display_name": "Python 3",
   "language": "python",
   "name": "python3"
  },
  "language_info": {
   "codemirror_mode": {
    "name": "ipython",
    "version": 3
   },
   "file_extension": ".py",
   "mimetype": "text/x-python",
   "name": "python",
   "nbconvert_exporter": "python",
   "pygments_lexer": "ipython3",
   "version": "3.8.5"
  }
 },
 "nbformat": 4,
 "nbformat_minor": 4
}
